{
 "cells": [
  {
   "cell_type": "code",
   "execution_count": null,
   "id": "7c8198d8",
   "metadata": {},
   "outputs": [],
   "source": [
    "# lets mke the client code\n",
    "import socket, pickle,struct\n",
    "import cv2\n",
    "# create socket\n",
    "client_socket = socket.socket(socket.AF_INET,socket.SOCK_STREAM)\n",
    "host_ip = '192.168.56.1' # paste your server ip address here\n",
    "port = 9999\n",
    "client_socket.connect((host_ip,port)) # a tuple\n",
    "data = b\"\"\n",
    "payload_size = struct.calcsize(\"Q\")\n",
    "while True:\n",
    "\twhile len(data) < payload_size:\n",
    "\t\tpacket = client_socket.recv(4*1024) # 4K\n",
    "\t\tif not packet: break\n",
    "\t\tdata+=packet\n",
    "        \n",
    "\tpacked_msg_size = data[:payload_size]\n",
    "\tdata = data[payload_size:]\n",
    "\tmsg_size = struct.unpack(\"Q\",packed_msg_size)[0]\n",
    "\t\n",
    "\twhile len(data) < msg_size:\n",
    "\t\tdata += client_socket.recv(4*1024)\n",
    "\tframe_data = data[:msg_size]\n",
    "\tdata  = data[msg_size:]\n",
    "\tframe = pickle.loads(frame_data)\n",
    "    \n",
    "\tcv2.imshow(\"RECEIVING VIDEO\",frame)\n",
    "\tkey = cv2.waitKey(1) & 0xFF\n",
    "\tif key  == ord('q'):\n",
    "\t\tbreak\n",
    "client_socket.close()\n",
    "\t\n",
    "\t\n"
   ]
  },
  {
   "cell_type": "code",
   "execution_count": null,
   "id": "98ae057c",
   "metadata": {},
   "outputs": [],
   "source": []
  },
  {
   "cell_type": "code",
   "execution_count": null,
   "id": "facde756",
   "metadata": {},
   "outputs": [],
   "source": []
  }
 ],
 "metadata": {
  "kernelspec": {
   "display_name": "Python 3",
   "language": "python",
   "name": "python3"
  },
  "language_info": {
   "codemirror_mode": {
    "name": "ipython",
    "version": 3
   },
   "file_extension": ".py",
   "mimetype": "text/x-python",
   "name": "python",
   "nbconvert_exporter": "python",
   "pygments_lexer": "ipython3",
   "version": "3.8.8"
  }
 },
 "nbformat": 4,
 "nbformat_minor": 5
}
